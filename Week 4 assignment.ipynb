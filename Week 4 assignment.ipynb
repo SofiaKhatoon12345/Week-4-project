{
  "metadata": {
    "kernelspec": {
      "name": "python",
      "display_name": "Pyolite",
      "language": "python"
    },
    "language_info": {
      "codemirror_mode": {
        "name": "python",
        "version": 3
      },
      "file_extension": ".py",
      "mimetype": "text/x-python",
      "name": "python",
      "nbconvert_exporter": "python",
      "pygments_lexer": "ipython3",
      "version": "3.8"
    }
  },
  "nbformat_minor": 4,
  "nbformat": 4,
  "cells": [
    {
      "cell_type": "markdown",
      "source": "<center>\n    <img src=\"https://cf-courses-data.s3.us.cloud-object-storage.appdomain.cloud/IBMDeveloperSkillsNetwork-DS0105EN-SkillsNetwork/labs/Module2/images/SN_web_lightmode.png\" width=\"300\" alt=\"cognitiveclass.ai logo\"  />\n</center>\n",
      "metadata": {}
    },
    {
      "cell_type": "markdown",
      "source": "# My Jupyter Notebook on IBM Watson Studio #",
      "metadata": {}
    },
    {
      "cell_type": "markdown",
      "source": "**Sofia Khatoon**  \nData Scientist",
      "metadata": {}
    },
    {
      "cell_type": "markdown",
      "source": "*I am interested in Data Science becauseits an emerging subject and has promising careers in long run*",
      "metadata": {}
    },
    {
      "cell_type": "markdown",
      "source": "### The following operation gives the sum of two numbers ###",
      "metadata": {}
    },
    {
      "cell_type": "code",
      "source": "print(\"the sum of 2 and 4 is \", 2+4)",
      "metadata": {
        "jupyter": {
          "source_hidden": true
        },
        "trusted": true
      },
      "execution_count": 1,
      "outputs": [
        {
          "name": "stdout",
          "text": "the sum of 2 and 4 is  6\n",
          "output_type": "stream"
        }
      ]
    },
    {
      "cell_type": "markdown",
      "source": "#### Add your code below following the instructions given in the course\n",
      "metadata": {}
    },
    {
      "cell_type": "markdown",
      "source": "#### horizontal rule  \n\nName\n***\nSofia\n\n\n#### Numbered list  \n1. This\n2. is \n    1. pen\n    2. paper\n    \n#### Bulleted list\n- apple\n- ball\n- cat\n\n#### tables\n|  A  | B  |\n|-----|----|\n|apple|ball|\n\n#### striketrough\n~~This is strikethrough~~\n",
      "metadata": {}
    }
  ]
}